{
 "cells": [
  {
   "cell_type": "code",
   "execution_count": 1,
   "metadata": {
    "collapsed": true
   },
   "outputs": [],
   "source": [
    "import sys\n",
    "import numpy as np\n",
    "import scipy as sp\n",
    "import sympy as sym\n",
    "import matplotlib.pyplot as plt\n",
    "import os\n",
    "from scipy.integrate import quad\n",
    "import copy"
   ]
  },
  {
   "cell_type": "code",
   "execution_count": 35,
   "metadata": {
    "scrolled": true
   },
  
   "source": [
    "Attempt = int(input('What is the Attempt Number We are Working on? \\n'))\n",
    "paths = int(input('What is the maximum number of paths minAone tried to optimize? \\n'))\n",
    "beta = int(input('What is the maximum beta value that minAone tried to reach? \\n'))\n",
    "measured = int(input('How many variables were measured?\\n'))\n",
    "dataindex = np.zeros(measured)\n",
    "for i in range(measured):\n",
    "    dataindex[i] = int(input('What is the index of the #{0} measured variable? \\n'.format(i+1)))\n",
    "start = int(input('How many time steps did minAone skip? \\n')) + int(input('How many time steps did minAone analyze? \\n'))"
   ]
  },
  {
   "cell_type": "code",
   "execution_count": 36,
   "metadata": {
    "collapsed": true
   },
   "outputs": [],
   "source": [
    "dataindex = dataindex.astype(int)"
   ]
  },
  {
   "cell_type": "code",
   "execution_count": 37,
   "metadata": {},
   "outputs": [],
   "source": [
    "datarecorded = []\n",
    "for index in dataindex:\n",
    "    variabletotal = np.loadtxt('Analysis_Attempt{1}/data{0}.txt'.format(index,Attempt))[start:]\n",
    "    if len(datarecorded) == 0:\n",
    "        datarecorded = variabletotal\n",
    "    else:\n",
    "        datarecorded = np.vstack((datarecorded,variabletotal))  \n",
    "datarecorded = datarecorded.T"
   ]
  },
  {
   "cell_type": "code",
   "execution_count": 39,
   "metadata": {},
   "outputs": [
    {
     "name": "stdout",
     "output_type": "stream",
     "text": [
      "[====================] 100%"
     ]
    }
   ],
   "source": [
    "errormatrix = []\n",
    "for value in range(beta):\n",
    "    predicterror = np.zeros(paths)\n",
    "    pathindexworked = []\n",
    "    \n",
    "    if int((value+1)*100/(beta))%5==0 or value ==0:\n",
    "        sys.stdout.write('\\r')\n",
    "    # the exact output you're looking for:\n",
    "        sys.stdout.write(\"[%-20s] %d%%\" % ('='*int((value+1)/((beta)/20)), int(((value+1)*100/(beta)))))\n",
    "        sys.stdout.flush()\n",
    "    \n",
    "    for pathlabel in range(1,1+paths):\n",
    "        if os.path.isfile('Analysis_Attempt{2}/path{0}/predict{1}.dat'.format(pathlabel,value,Attempt)):\n",
    "            prediction = np.loadtxt('Analysis_Attempt{2}/path{0}/predict{1}.dat'.format(pathlabel,value,Attempt))[:,dataindex+1]\n",
    "            measurementsrecorded = np.reshape(datarecorded[:len(prediction)],np.shape(prediction))\n",
    "            '''if len(predicterror) == 0:\n",
    "                predicterror = np.array([np.sum(np.square(np.subtract(prediction,measurementsrecorded))/(measured*len(prediction)))])\n",
    "                pathindexworked = [pathlabel]\n",
    "            else:\n",
    "                predicterror = np.hstack((predicterror, np.array([np.sum(np.square(np.subtract(prediction,measurementsrecorded))/(measured*len(prediction)))]))).T\n",
    "                pathindexworked = np.append(pathindexworked,[pathlabel])'''\n",
    "            predicterror[pathlabel-1] = np.var(np.subtract(prediction,measurementsrecorded))\n",
    "    if len(errormatrix) ==0:\n",
    "        errormatrix = predicterror\n",
    "    else:\n",
    "        errormatrix = np.vstack((errormatrix,predicterror))\n",
    "    "
   ]
  },
  {
   "cell_type": "code",
   "execution_count": 22,
   "metadata": {},
   "outputs": [],
   "source": [
    "Rf = str('$\\log\\frac{R_f}{R_m}$')"
   ]
  },
  {
   "cell_type": "code",
   "execution_count": 41,
   "metadata": {},
   "outputs": [],
   "source": [
    "rfrm = np.arange(beta)\n",
    "for b in range(paths):\n",
    "    plt.plot(rfrm, errormatrix[:,b], 'o')\n",
    "maxerror = np.unravel_index(errormatrix.argmax(), errormatrix.shape)\n",
    "minerror = np.unravel_index(errormatrix.argmin(), errormatrix.shape)\n",
    "plt.rc('text', usetex=True)\n",
    "plt.ylabel('MSE', fontsize = 20)\n",
    "plt.xlabel('{0}'.format(Rf), fontsize = 20)\n",
    "plt.yscale('log')\n",
    "plt.show()"
   ]
  }
 ],
 "metadata": {
  "kernelspec": {
   "display_name": "Python 2",
   "language": "python",
   "name": "python2"
  },
  "language_info": {
   "codemirror_mode": {
    "name": "ipython",
    "version": 2
   },
   "file_extension": ".py",
   "mimetype": "text/x-python",
   "name": "python",
   "nbconvert_exporter": "python",
   "pygments_lexer": "ipython2",
   "version": "2.7.15"
  }
 },
 "nbformat": 4,
 "nbformat_minor": 1
}
